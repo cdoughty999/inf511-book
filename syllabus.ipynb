{
  "cells": [
    {
      "cell_type": "markdown",
      "metadata": {},
      "source": [
        "# Syllabus {#sec-syllabus}\n",
        "\n",
        "The syllabus will live here.\n",
        "\n",
        "## Tentative course schedule\n",
        "\n",
        "\n",
        "```{tex}\n",
        "\\begin{tabular}[|c|c|]\n",
        "test1 & test2 \\\\\n",
        "\\hline \\\\\n",
        "one & two \\\\\n",
        "\\hline\n",
        "\\end{tabular}\n",
        "```"
      ],
      "id": "589edb05"
    }
  ],
  "metadata": {
    "kernelspec": {
      "display_name": "Python 3",
      "language": "python",
      "name": "python3"
    }
  },
  "nbformat": 4,
  "nbformat_minor": 5
}